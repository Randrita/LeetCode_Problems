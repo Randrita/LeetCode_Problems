{
 "cells": [
  {
   "cell_type": "code",
   "execution_count": 31,
   "metadata": {},
   "outputs": [
    {
     "name": "stdout",
     "output_type": "stream",
     "text": [
      "thequickbrownfoxjumpsoverthelazydog\n",
      "YES\n"
     ]
    }
   ],
   "source": [
    "count=0\n",
    "\n",
    "        \n",
    "import string\n",
    "l=list(string.ascii_lowercase)\n",
    "\n",
    "sentence=input()\n",
    "sentence=sentence.lower()\n",
    "for i in l:\n",
    "    if i in sentence:\n",
    "        count=1+count\n",
    "    else:\n",
    "        pass\n",
    "    \n",
    "\n",
    "if count==len(l):\n",
    "    print('YES')\n",
    "else:\n",
    "    print('NO')\n"
   ]
  },
  {
   "cell_type": "code",
   "execution_count": null,
   "metadata": {},
   "outputs": [],
   "source": [
    "class Solution:\n",
    "    def checkIfPangram(self, sentence: str) -> bool:\n",
    "        return len(set(sentence)) == 26"
   ]
  },
  {
   "cell_type": "code",
   "execution_count": 36,
   "metadata": {},
   "outputs": [
    {
     "name": "stdout",
     "output_type": "stream",
     "text": [
      "thequickbrownfoxjumpsoverthelazydog\n",
      "YES\n"
     ]
    }
   ],
   "source": [
    "sentence=input()\n",
    "x=len(set(sentence))\n",
    "if x==26:\n",
    "    print('YES')\n",
    "else:\n",
    "    print('NO')"
   ]
  },
  {
   "cell_type": "code",
   "execution_count": null,
   "metadata": {},
   "outputs": [],
   "source": []
  }
 ],
 "metadata": {
  "kernelspec": {
   "display_name": "Python 3",
   "language": "python",
   "name": "python3"
  },
  "language_info": {
   "codemirror_mode": {
    "name": "ipython",
    "version": 3
   },
   "file_extension": ".py",
   "mimetype": "text/x-python",
   "name": "python",
   "nbconvert_exporter": "python",
   "pygments_lexer": "ipython3",
   "version": "3.8.3"
  }
 },
 "nbformat": 4,
 "nbformat_minor": 4
}
