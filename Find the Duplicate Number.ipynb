{
 "cells": [
  {
   "cell_type": "code",
   "execution_count": 5,
   "id": "3c66efb3",
   "metadata": {},
   "outputs": [
    {
     "name": "stdout",
     "output_type": "stream",
     "text": [
      "Enter the size of an array : 5\n",
      "Enter the elements of an array : 3 2 1 3 5\n"
     ]
    }
   ],
   "source": [
    "#take the input of array size\n",
    "n=int(input('Enter the size of an array : '))\n",
    "\n",
    "elements =list(map(int,input('Enter the elements of an array : ').split()))"
   ]
  },
  {
   "cell_type": "code",
   "execution_count": 10,
   "id": "5cff0fcb",
   "metadata": {},
   "outputs": [
    {
     "name": "stdout",
     "output_type": "stream",
     "text": [
      "Counter({3: 2, 2: 1, 1: 1, 5: 1})\n"
     ]
    }
   ],
   "source": [
    "from collections import Counter\n",
    "x=Counter(elements)\n",
    "#print(x)"
   ]
  },
  {
   "cell_type": "code",
   "execution_count": 24,
   "id": "167d5705",
   "metadata": {},
   "outputs": [],
   "source": [
    "k=[x for x,v in x.items() if v==2]"
   ]
  },
  {
   "cell_type": "code",
   "execution_count": 28,
   "id": "e1da8094",
   "metadata": {},
   "outputs": [
    {
     "name": "stdout",
     "output_type": "stream",
     "text": [
      "3\n"
     ]
    }
   ],
   "source": [
    "print(k[0])"
   ]
  },
  {
   "cell_type": "code",
   "execution_count": null,
   "id": "0c09dc33",
   "metadata": {},
   "outputs": [],
   "source": []
  }
 ],
 "metadata": {
  "kernelspec": {
   "display_name": "Python 3",
   "language": "python",
   "name": "python3"
  },
  "language_info": {
   "codemirror_mode": {
    "name": "ipython",
    "version": 3
   },
   "file_extension": ".py",
   "mimetype": "text/x-python",
   "name": "python",
   "nbconvert_exporter": "python",
   "pygments_lexer": "ipython3",
   "version": "3.8.8"
  }
 },
 "nbformat": 4,
 "nbformat_minor": 5
}
